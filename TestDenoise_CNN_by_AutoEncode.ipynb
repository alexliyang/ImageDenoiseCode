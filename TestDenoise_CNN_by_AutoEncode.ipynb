{
 "cells": [
  {
   "cell_type": "markdown",
   "metadata": {},
   "source": [
    "导入头文件"
   ]
  },
  {
   "cell_type": "code",
   "execution_count": 1,
   "metadata": {},
   "outputs": [
    {
     "name": "stderr",
     "output_type": "stream",
     "text": [
      "Using TensorFlow backend.\n",
      "/home/hc/anaconda3/lib/python3.6/importlib/_bootstrap.py:219: RuntimeWarning: compiletime version 3.5 of module 'tensorflow.python.framework.fast_tensor_util' does not match runtime version 3.6\n",
      "  return f(*args, **kwds)\n"
     ]
    }
   ],
   "source": [
    "from keras.layers import Input,Convolution2D,MaxPooling2D,UpSampling2D\n",
    "from keras.layers import normalization\n",
    "from keras.models import Model\n",
    "from keras.datasets import mnist\n",
    "from keras.callbacks import EarlyStopping\n",
    "import tensorflow as tf\n",
    "import numpy as np\n",
    "import matplotlib.pyplot as plt\n"
   ]
  },
  {
   "cell_type": "markdown",
   "metadata": {},
   "source": [
    "可视化图片"
   ]
  },
  {
   "cell_type": "code",
   "execution_count": 2,
   "metadata": {
    "collapsed": true
   },
   "outputs": [],
   "source": [
    "def show(target):\n",
    "    n = 10\n",
    "    for i in range(n):\n",
    "        ax = plt.subplot(1,n,i+1)\n",
    "        plt.imshow(target[i].reshape(28,28))\n",
    "        plt.gray()\n",
    "        ax.get_xaxis().set_visible(False)\n",
    "        ax.get_yaxis().set_visible(False)\n",
    "    plt.show()"
   ]
  },
  {
   "cell_type": "markdown",
   "metadata": {},
   "source": [
    "增加噪声"
   ]
  },
  {
   "cell_type": "code",
   "execution_count": 3,
   "metadata": {
    "collapsed": true
   },
   "outputs": [],
   "source": [
    "def add_noise(data, sigma):\n",
    "    # target image pixel value range is 0-1\n",
    "        noise = sigma / 255.0 * tf.Session().run(tf.truncated_normal(data.shape))\n",
    "        return (data + noise)"
   ]
  },
  {
   "cell_type": "markdown",
   "metadata": {},
   "source": [
    "计算psnr"
   ]
  },
  {
   "cell_type": "code",
   "execution_count": 4,
   "metadata": {
    "collapsed": true
   },
   "outputs": [],
   "source": [
    "def cal_psnr(im1,im2):\n",
    "    mse = (np.abs(im1-im2)**2).mean()\n",
    "    psnr = 10*np.log10(255*255/mse)\n",
    "    return psnr"
   ]
  },
  {
   "cell_type": "markdown",
   "metadata": {},
   "source": [
    "#### 导入数据\n",
    "#### 名词解释：\n",
    "X_train_clean:表示训练干净图片  \n",
    "X_test_clean:表示测试干净图片"
   ]
  },
  {
   "cell_type": "code",
   "execution_count": 5,
   "metadata": {
    "collapsed": true
   },
   "outputs": [],
   "source": [
    "(X_train_clean,_),(X_test_clean,_) = mnist.load_data()"
   ]
  },
  {
   "cell_type": "markdown",
   "metadata": {},
   "source": [
    "数据进行归一化，除上255"
   ]
  },
  {
   "cell_type": "code",
   "execution_count": 6,
   "metadata": {
    "collapsed": true
   },
   "outputs": [],
   "source": [
    "X_train_clean = X_train_clean.astype('float32')/255.\n",
    "X_test_clean = X_test_clean.astype('float32')/255."
   ]
  },
  {
   "cell_type": "markdown",
   "metadata": {},
   "source": [
    "转换数据图片大小，将图片设置为 28*28"
   ]
  },
  {
   "cell_type": "code",
   "execution_count": 7,
   "metadata": {
    "collapsed": true
   },
   "outputs": [],
   "source": [
    "X_train_clean = np.reshape(X_train_clean,(len(X_train_clean),28,28,1))\n",
    "X_test_clean = np.reshape(X_test_clean,(len(X_test_clean),28,28,1))"
   ]
  },
  {
   "cell_type": "markdown",
   "metadata": {},
   "source": [
    "进行训练图片可视化"
   ]
  },
  {
   "cell_type": "code",
   "execution_count": 8,
   "metadata": {},
   "outputs": [
    {
     "data": {
      "image/png": "[encoded data removed]",
      "text/plain": [
       "<matplotlib.figure.Figure at 0x7f0f218da048>"
      ]
     },
     "metadata": {},
     "output_type": "display_data"
    }
   ],
   "source": [
    "show(X_train_clean)"
   ]
  },
  {
   "cell_type": "markdown",
   "metadata": {},
   "source": [
    "训练图片与测试图片分别添加噪声"
   ]
  },
  {
   "cell_type": "code",
   "execution_count": 9,
   "metadata": {
    "collapsed": true
   },
   "outputs": [],
   "source": [
    "X_train_noisy = add_noise(X_train_clean,25)\n",
    "X_test_noisy = add_noise(X_test_clean,25)"
   ]
  },
  {
   "cell_type": "markdown",
   "metadata": {},
   "source": [
    "可视化训练噪声图片"
   ]
  },
  {
   "cell_type": "code",
   "execution_count": 10,
   "metadata": {},
   "outputs": [
    {
     "name": "stdout",
     "output_type": "stream",
     "text": [
      "(60000, 28, 28, 1)\n"
     ]
    },
    {
     "data": {
      "image/png": "[encoded data removed]",
      "text/plain": [
       "<matplotlib.figure.Figure at 0x7f0f2194feb8>"
      ]
     },
     "metadata": {},
     "output_type": "display_data"
    }
   ],
   "source": [
    "print(X_train_noisy.shape)\n",
    "show(X_train_noisy)"
   ]
  },
  {
   "cell_type": "markdown",
   "metadata": {},
   "source": [
    "### 名词解释：\n",
    "b_noise 训练图片的真实噪声  \n",
    "\n",
    "_b_noise 测试图片的真实噪声"
   ]
  },
  {
   "cell_type": "code",
   "execution_count": 11,
   "metadata": {
    "collapsed": true
   },
   "outputs": [],
   "source": [
    "b_noise = X_train_noisy-X_train_clean\n",
    "_b_noise = X_test_noisy-X_test_clean"
   ]
  },
  {
   "cell_type": "markdown",
   "metadata": {},
   "source": [
    "噪声可视化"
   ]
  },
  {
   "cell_type": "code",
   "execution_count": 12,
   "metadata": {},
   "outputs": [
    {
     "data": {
      "image/png": "[encoded data removed]",
      "text/plain": [
       "<matplotlib.figure.Figure at 0x7f0f09d32ba8>"
      ]
     },
     "metadata": {},
     "output_type": "display_data"
    }
   ],
   "source": [
    "show(b_noise)"
   ]
  },
  {
   "cell_type": "markdown",
   "metadata": {},
   "source": [
    "构建模型\n"
   ]
  },
  {
   "cell_type": "code",
   "execution_count": 13,
   "metadata": {
    "collapsed": true
   },
   "outputs": [],
   "source": [
    "input_img = Input(shape=(28,28,1))"
   ]
  },
  {
   "cell_type": "markdown",
   "metadata": {},
   "source": [
    "#### 简单卷积神经网络\n",
    "目的：学习噪声  \n"
   ]
  },
  {
   "cell_type": "code",
   "execution_count": 14,
   "metadata": {
    "collapsed": true
   },
   "outputs": [],
   "source": [
    "x = Convolution2D(128,(3,3),strides=(1,1),activation='relu',padding='same')(input_img)"
   ]
  },
  {
   "cell_type": "code",
   "execution_count": 15,
   "metadata": {
    "collapsed": true
   },
   "outputs": [],
   "source": [
    "x = Convolution2D(128,(3,3),strides=(1,1),activation='relu',padding='same')(x)"
   ]
  },
  {
   "cell_type": "code",
   "execution_count": 16,
   "metadata": {
    "collapsed": true
   },
   "outputs": [],
   "source": [
    "x = Convolution2D(128,(3,3),strides=(1,1),activation='relu',padding='same')(x)"
   ]
  },
  {
   "cell_type": "code",
   "execution_count": 17,
   "metadata": {
    "collapsed": true
   },
   "outputs": [],
   "source": [
    "x = MaxPooling2D((2,2),padding='same')(x)"
   ]
  },
  {
   "cell_type": "code",
   "execution_count": 18,
   "metadata": {
    "collapsed": true
   },
   "outputs": [],
   "source": [
    "x = Convolution2D(128,(3,3),strides=(1,1),activation='relu',padding='same')(x)"
   ]
  },
  {
   "cell_type": "code",
   "execution_count": 19,
   "metadata": {
    "collapsed": true
   },
   "outputs": [],
   "source": [
    "x = Convolution2D(128,(3,3),strides=(1,1),activation='relu',padding='same')(x)"
   ]
  },
  {
   "cell_type": "code",
   "execution_count": 20,
   "metadata": {
    "collapsed": true
   },
   "outputs": [],
   "source": [
    "x = Convolution2D(128,(3,3),strides=(1,1),activation='relu',padding='same')(x)"
   ]
  },
  {
   "cell_type": "code",
   "execution_count": 21,
   "metadata": {
    "collapsed": true
   },
   "outputs": [],
   "source": [
    "x = MaxPooling2D((2,2),padding='same')(x)"
   ]
  },
  {
   "cell_type": "code",
   "execution_count": 22,
   "metadata": {
    "collapsed": true
   },
   "outputs": [],
   "source": [
    "x = Convolution2D(128,(3,3),strides=(1,1),activation='relu',padding='same')(x)"
   ]
  },
  {
   "cell_type": "code",
   "execution_count": 23,
   "metadata": {
    "collapsed": true
   },
   "outputs": [],
   "source": [
    "x = Convolution2D(128,(3,3),strides=(1,1),activation='relu',padding='same')(x)"
   ]
  },
  {
   "cell_type": "code",
   "execution_count": 24,
   "metadata": {
    "collapsed": true
   },
   "outputs": [],
   "source": [
    "x = Convolution2D(128,(3,3),strides=(1,1),activation='relu',padding='same')(x)"
   ]
  },
  {
   "cell_type": "code",
   "execution_count": 25,
   "metadata": {},
   "outputs": [],
   "source": [
    "x = UpSampling2D((2,2))(x)"
   ]
  },
  {
   "cell_type": "code",
   "execution_count": 26,
   "metadata": {
    "collapsed": true
   },
   "outputs": [],
   "source": [
    "x = Convolution2D(128,(3,3),strides=(1,1),activation='relu',padding='same')(x)"
   ]
  },
  {
   "cell_type": "code",
   "execution_count": 27,
   "metadata": {
    "collapsed": true
   },
   "outputs": [],
   "source": [
    "x = Convolution2D(128,(3,3),strides=(1,1),activation='relu',padding='same')(x)"
   ]
  },
  {
   "cell_type": "code",
   "execution_count": 28,
   "metadata": {
    "collapsed": true
   },
   "outputs": [],
   "source": [
    "x = Convolution2D(128,(3,3),strides=(1,1),activation='relu',padding='same')(x)"
   ]
  },
  {
   "cell_type": "code",
   "execution_count": 29,
   "metadata": {
    "collapsed": true
   },
   "outputs": [],
   "source": [
    "x = UpSampling2D((2,2))(x)"
   ]
  },
  {
   "cell_type": "code",
   "execution_count": 30,
   "metadata": {
    "collapsed": true
   },
   "outputs": [],
   "source": [
    "decoded = Convolution2D(1,(3,3),padding='same')(x)"
   ]
  },
  {
   "cell_type": "code",
   "execution_count": 31,
   "metadata": {
    "collapsed": true
   },
   "outputs": [],
   "source": [
    "auto = Model(inputs=input_img,outputs=decoded)"
   ]
  },
  {
   "cell_type": "code",
   "execution_count": 32,
   "metadata": {},
   "outputs": [
    {
     "name": "stdout",
     "output_type": "stream",
     "text": [
      "_________________________________________________________________\n",
      "Layer (type)                 Output Shape              Param #   \n",
      "=================================================================\n",
      "input_1 (InputLayer)         (None, 28, 28, 1)         0         \n",
      "_________________________________________________________________\n",
      "conv2d_1 (Conv2D)            (None, 28, 28, 128)       1280      \n",
      "_________________________________________________________________\n",
      "conv2d_2 (Conv2D)            (None, 28, 28, 128)       147584    \n",
      "_________________________________________________________________\n",
      "conv2d_3 (Conv2D)            (None, 28, 28, 128)       147584    \n",
      "_________________________________________________________________\n",
      "max_pooling2d_1 (MaxPooling2 (None, 14, 14, 128)       0         \n",
      "_________________________________________________________________\n",
      "conv2d_4 (Conv2D)            (None, 14, 14, 128)       147584    \n",
      "_________________________________________________________________\n",
      "conv2d_5 (Conv2D)            (None, 14, 14, 128)       147584    \n",
      "_________________________________________________________________\n",
      "conv2d_6 (Conv2D)            (None, 14, 14, 128)       147584    \n",
      "_________________________________________________________________\n",
      "max_pooling2d_2 (MaxPooling2 (None, 7, 7, 128)         0         \n",
      "_________________________________________________________________\n",
      "conv2d_7 (Conv2D)            (None, 7, 7, 128)         147584    \n",
      "_________________________________________________________________\n",
      "conv2d_8 (Conv2D)            (None, 7, 7, 128)         147584    \n",
      "_________________________________________________________________\n",
      "conv2d_9 (Conv2D)            (None, 7, 7, 128)         147584    \n",
      "_________________________________________________________________\n",
      "up_sampling2d_1 (UpSampling2 (None, 14, 14, 128)       0         \n",
      "_________________________________________________________________\n",
      "conv2d_10 (Conv2D)           (None, 14, 14, 128)       147584    \n",
      "_________________________________________________________________\n",
      "conv2d_11 (Conv2D)           (None, 14, 14, 128)       147584    \n",
      "_________________________________________________________________\n",
      "conv2d_12 (Conv2D)           (None, 14, 14, 128)       147584    \n",
      "_________________________________________________________________\n",
      "up_sampling2d_2 (UpSampling2 (None, 28, 28, 128)       0         \n",
      "_________________________________________________________________\n",
      "conv2d_13 (Conv2D)           (None, 28, 28, 1)         1153      \n",
      "=================================================================\n",
      "Total params: 1,625,857\n",
      "Trainable params: 1,625,857\n",
      "Non-trainable params: 0\n",
      "_________________________________________________________________\n"
     ]
    }
   ],
   "source": [
    "auto.summary()"
   ]
  },
  {
   "cell_type": "code",
   "execution_count": 33,
   "metadata": {
    "collapsed": true
   },
   "outputs": [],
   "source": [
    "from keras import optimizers"
   ]
  },
  {
   "cell_type": "code",
   "execution_count": 34,
   "metadata": {
    "collapsed": true
   },
   "outputs": [],
   "source": [
    "Adam = optimizers.Adam(lr = 0.001)"
   ]
  },
  {
   "cell_type": "code",
   "execution_count": 35,
   "metadata": {
    "collapsed": true
   },
   "outputs": [],
   "source": [
    "auto.compile(optimizer=Adam,loss='mse')"
   ]
  },
  {
   "cell_type": "code",
   "execution_count": 36,
   "metadata": {},
   "outputs": [
    {
     "name": "stdout",
     "output_type": "stream",
     "text": [
      "Train on 60000 samples, validate on 10000 samples\n",
      "Epoch 1/50\n",
      "60000/60000 [==============================] - 26s 431us/step - loss: 0.0070 - val_loss: 0.0060\n",
      "Epoch 2/50\n",
      "60000/60000 [==============================] - 24s 408us/step - loss: 0.0051 - val_loss: 0.0043\n",
      "Epoch 3/50\n",
      "60000/60000 [==============================] - 24s 408us/step - loss: 0.0036 - val_loss: 0.0033\n",
      "Epoch 4/50\n",
      "60000/60000 [==============================] - 24s 407us/step - loss: 0.0029 - val_loss: 0.0028\n",
      "Epoch 5/50\n",
      "60000/60000 [==============================] - 24s 407us/step - loss: 0.0027 - val_loss: 0.0026\n",
      "Epoch 6/50\n",
      "60000/60000 [==============================] - 24s 407us/step - loss: 0.0026 - val_loss: 0.0025\n",
      "Epoch 7/50\n",
      "60000/60000 [==============================] - 24s 406us/step - loss: 0.0024 - val_loss: 0.0023\n",
      "Epoch 8/50\n",
      "60000/60000 [==============================] - 24s 407us/step - loss: 0.0021 - val_loss: 0.0019\n",
      "Epoch 9/50\n",
      "60000/60000 [==============================] - 24s 408us/step - loss: 0.0019 - val_loss: 0.0017\n",
      "Epoch 10/50\n",
      "60000/60000 [==============================] - 24s 406us/step - loss: 0.0015 - val_loss: 0.0013\n",
      "Epoch 11/50\n",
      "60000/60000 [==============================] - 24s 407us/step - loss: 0.0012 - val_loss: 0.0011\n",
      "Epoch 12/50\n",
      "60000/60000 [==============================] - 24s 406us/step - loss: 0.0012 - val_loss: 0.0011\n",
      "Epoch 13/50\n",
      "60000/60000 [==============================] - 24s 407us/step - loss: 0.0018 - val_loss: 0.0031\n",
      "Epoch 14/50\n",
      "60000/60000 [==============================] - 24s 406us/step - loss: 0.0020 - val_loss: 0.0014\n",
      "Epoch 15/50\n",
      "60000/60000 [==============================] - 24s 407us/step - loss: 0.0019 - val_loss: 0.0012\n",
      "Epoch 16/50\n",
      "60000/60000 [==============================] - 24s 408us/step - loss: 0.0012 - val_loss: 0.0011\n",
      "Epoch 17/50\n",
      "60000/60000 [==============================] - 25s 409us/step - loss: 0.0012 - val_loss: 0.0012\n",
      "Epoch 18/50\n",
      "60000/60000 [==============================] - 24s 406us/step - loss: 0.0011 - val_loss: 9.9466e-04\n",
      "Epoch 19/50\n",
      "60000/60000 [==============================] - 24s 407us/step - loss: 0.0012 - val_loss: 0.0011\n",
      "Epoch 20/50\n",
      "60000/60000 [==============================] - 24s 407us/step - loss: 0.0011 - val_loss: 0.0011\n",
      "Epoch 21/50\n",
      "60000/60000 [==============================] - 24s 407us/step - loss: 0.0010 - val_loss: 9.6675e-04\n",
      "Epoch 22/50\n",
      "60000/60000 [==============================] - 24s 408us/step - loss: 0.0011 - val_loss: 9.7877e-04\n",
      "Epoch 23/50\n",
      "60000/60000 [==============================] - 24s 406us/step - loss: 0.0010 - val_loss: 9.6875e-04\n",
      "Epoch 24/50\n",
      "60000/60000 [==============================] - 24s 407us/step - loss: 9.8684e-04 - val_loss: 9.9983e-04\n",
      "Epoch 25/50\n",
      "60000/60000 [==============================] - 24s 407us/step - loss: 9.8441e-04 - val_loss: 0.0011\n",
      "Epoch 26/50\n",
      "60000/60000 [==============================] - 24s 408us/step - loss: 9.4778e-04 - val_loss: 9.2817e-04\n",
      "Epoch 27/50\n",
      "60000/60000 [==============================] - 24s 407us/step - loss: 9.5772e-04 - val_loss: 0.0014\n",
      "Epoch 28/50\n",
      "60000/60000 [==============================] - 24s 407us/step - loss: 9.4194e-04 - val_loss: 8.7813e-04\n",
      "Epoch 29/50\n",
      "60000/60000 [==============================] - 24s 406us/step - loss: 9.6162e-04 - val_loss: 0.0020\n",
      "Epoch 30/50\n",
      "60000/60000 [==============================] - 24s 406us/step - loss: 9.5804e-04 - val_loss: 0.0011\n",
      "Epoch 31/50\n",
      "60000/60000 [==============================] - 24s 406us/step - loss: 0.0011 - val_loss: 8.8309e-04\n",
      "Epoch 32/50\n",
      "60000/60000 [==============================] - 24s 408us/step - loss: 9.3820e-04 - val_loss: 8.7230e-04\n",
      "Epoch 33/50\n",
      "60000/60000 [==============================] - 24s 408us/step - loss: 8.9675e-04 - val_loss: 9.1840e-04\n",
      "Epoch 34/50\n",
      "60000/60000 [==============================] - 24s 407us/step - loss: 9.7955e-04 - val_loss: 9.9939e-04\n",
      "Epoch 35/50\n",
      "60000/60000 [==============================] - 24s 406us/step - loss: 9.2954e-04 - val_loss: 9.5244e-04\n",
      "Epoch 36/50\n",
      "60000/60000 [==============================] - 24s 407us/step - loss: 9.9113e-04 - val_loss: 0.0011\n",
      "Epoch 37/50\n",
      "60000/60000 [==============================] - 24s 408us/step - loss: 0.0010 - val_loss: 9.4585e-04\n",
      "Epoch 38/50\n",
      "60000/60000 [==============================] - 24s 405us/step - loss: 9.0531e-04 - val_loss: 0.0010\n",
      "Epoch 39/50\n",
      "60000/60000 [==============================] - 24s 406us/step - loss: 9.2896e-04 - val_loss: 8.6602e-04\n",
      "Epoch 40/50\n",
      "60000/60000 [==============================] - 24s 406us/step - loss: 8.6196e-04 - val_loss: 0.0010\n",
      "Epoch 41/50\n",
      "60000/60000 [==============================] - 24s 406us/step - loss: 9.0481e-04 - val_loss: 8.4795e-04\n",
      "Epoch 42/50\n",
      "60000/60000 [==============================] - 24s 407us/step - loss: 9.6855e-04 - val_loss: 8.8869e-04\n",
      "Epoch 43/50\n",
      "60000/60000 [==============================] - 24s 405us/step - loss: 8.6473e-04 - val_loss: 8.4906e-04\n",
      "Epoch 44/50\n",
      "60000/60000 [==============================] - 24s 406us/step - loss: 9.5081e-04 - val_loss: 8.6319e-04\n",
      "Epoch 45/50\n",
      "60000/60000 [==============================] - 24s 405us/step - loss: 8.6130e-04 - val_loss: 8.3350e-04\n",
      "Epoch 46/50\n",
      "60000/60000 [==============================] - 24s 404us/step - loss: 0.0010 - val_loss: 0.0011\n",
      "Epoch 47/50\n",
      "60000/60000 [==============================] - 24s 405us/step - loss: 9.3960e-04 - val_loss: 8.6585e-04\n",
      "Epoch 48/50\n",
      "60000/60000 [==============================] - 24s 405us/step - loss: 8.6460e-04 - val_loss: 8.4960e-04\n",
      "Epoch 49/50\n",
      "60000/60000 [==============================] - 24s 407us/step - loss: 8.9851e-04 - val_loss: 0.0012\n",
      "Epoch 50/50\n",
      "60000/60000 [==============================] - 24s 407us/step - loss: 9.3567e-04 - val_loss: 8.6491e-04\n"
     ]
    },
    {
     "data": {
      "text/plain": [
       "<keras.callbacks.History at 0x7f0f21816b70>"
      ]
     },
     "execution_count": 36,
     "metadata": {},
     "output_type": "execute_result"
    }
   ],
   "source": [
    "auto.fit(X_train_noisy,b_noise,epochs=50,batch_size=128,shuffle=True,validation_data=(X_test_noisy,_b_noise))"
   ]
  },
  {
   "cell_type": "code",
   "execution_count": 37,
   "metadata": {},
   "outputs": [
    {
     "name": "stdout",
     "output_type": "stream",
     "text": [
      "10000/10000 [==============================] - 1s 135us/step\n"
     ]
    }
   ],
   "source": [
    "score = auto.evaluate(X_test_noisy,_b_noise,batch_size=128)"
   ]
  },
  {
   "cell_type": "code",
   "execution_count": 38,
   "metadata": {},
   "outputs": [
    {
     "name": "stdout",
     "output_type": "stream",
     "text": [
      "0.000864907489344\n"
     ]
    }
   ],
   "source": [
    "print(score)"
   ]
  },
  {
   "cell_type": "markdown",
   "metadata": {},
   "source": [
    "预测图片"
   ]
  },
  {
   "cell_type": "code",
   "execution_count": 39,
   "metadata": {},
   "outputs": [],
   "source": [
    "decoded_imgs = auto.predict(X_test_noisy)"
   ]
  },
  {
   "cell_type": "code",
   "execution_count": 40,
   "metadata": {},
   "outputs": [
    {
     "data": {
      "image/png": "[encoded data removed]",
      "text/plain": [
       "<matplotlib.figure.Figure at 0x7f0f09cecbe0>"
      ]
     },
     "metadata": {},
     "output_type": "display_data"
    }
   ],
   "source": [
    "show(decoded_imgs)"
   ]
  },
  {
   "cell_type": "markdown",
   "metadata": {},
   "source": [
    "计算psnr"
   ]
  },
  {
   "cell_type": "code",
   "execution_count": 41,
   "metadata": {
    "collapsed": true
   },
   "outputs": [],
   "source": [
    "out_imgs = X_test_noisy-decoded_imgs\n",
    "out_imgs_data=np.clip(255*out_imgs,0,255).astype('float32')\n",
    "X_test_data = np.clip(255*X_test_clean,0,255).astype('float32')"
   ]
  },
  {
   "cell_type": "code",
   "execution_count": 42,
   "metadata": {},
   "outputs": [
    {
     "data": {
      "image/png": "[encoded data removed]",
      "text/plain": [
       "<matplotlib.figure.Figure at 0x7f0ee46ad908>"
      ]
     },
     "metadata": {},
     "output_type": "display_data"
    }
   ],
   "source": [
    "show(out_imgs)"
   ]
  },
  {
   "cell_type": "code",
   "execution_count": 43,
   "metadata": {},
   "outputs": [
    {
     "name": "stdout",
     "output_type": "stream",
     "text": [
      "psnr is : 31.0660521481\n"
     ]
    }
   ],
   "source": [
    "print('psnr is :',cal_psnr(out_imgs_data,X_test_data))"
   ]
  },
  {
   "cell_type": "code",
   "execution_count": null,
   "metadata": {
    "collapsed": true
   },
   "outputs": [],
   "source": []
  }
 ],
 "metadata": {
  "kernelspec": {
   "display_name": "Python 3",
   "language": "python",
   "name": "python3"
  },
  "language_info": {
   "codemirror_mode": {
    "name": "ipython",
    "version": 3
   },
   "file_extension": ".py",
   "mimetype": "text/x-python",
   "name": "python",
   "nbconvert_exporter": "python",
   "pygments_lexer": "ipython3",
   "version": "3.6.3"
  }
 },
 "nbformat": 4,
 "nbformat_minor": 2
}
